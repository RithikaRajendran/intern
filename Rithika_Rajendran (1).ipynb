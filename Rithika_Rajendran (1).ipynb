{
 "cells": [
  {
   "cell_type": "markdown",
   "metadata": {},
   "source": [
    "# STEP 1"
   ]
  },
  {
   "cell_type": "code",
   "execution_count": 17,
   "metadata": {},
   "outputs": [],
   "source": [
    "from sklearn.ensemble import RandomForestClassifier\n",
    "from sklearn.model_selection import train_test_split\n",
    "from sklearn import metrics\n",
    "import pandas as pd\n",
    "import numpy as np\n",
    "from matplotlib import pyplot as plt\n",
    "import seaborn as sns"
   ]
  },
  {
   "cell_type": "code",
   "execution_count": 19,
   "metadata": {},
   "outputs": [
    {
     "data": {
      "text/html": [
       "<div>\n",
       "<style scoped>\n",
       "    .dataframe tbody tr th:only-of-type {\n",
       "        vertical-align: middle;\n",
       "    }\n",
       "\n",
       "    .dataframe tbody tr th {\n",
       "        vertical-align: top;\n",
       "    }\n",
       "\n",
       "    .dataframe thead th {\n",
       "        text-align: right;\n",
       "    }\n",
       "</style>\n",
       "<table border=\"1\" class=\"dataframe\">\n",
       "  <thead>\n",
       "    <tr style=\"text-align: right;\">\n",
       "      <th></th>\n",
       "      <th>input</th>\n",
       "      <th>output</th>\n",
       "    </tr>\n",
       "  </thead>\n",
       "  <tbody>\n",
       "    <tr>\n",
       "      <th>0</th>\n",
       "      <td>-122.740667</td>\n",
       "      <td>-130.572085</td>\n",
       "    </tr>\n",
       "    <tr>\n",
       "      <th>1</th>\n",
       "      <td>-121.531419</td>\n",
       "      <td>-129.938929</td>\n",
       "    </tr>\n",
       "    <tr>\n",
       "      <th>2</th>\n",
       "      <td>-134.917019</td>\n",
       "      <td>-130.141832</td>\n",
       "    </tr>\n",
       "    <tr>\n",
       "      <th>3</th>\n",
       "      <td>-120.605951</td>\n",
       "      <td>-125.760932</td>\n",
       "    </tr>\n",
       "    <tr>\n",
       "      <th>4</th>\n",
       "      <td>-129.894781</td>\n",
       "      <td>-112.785214</td>\n",
       "    </tr>\n",
       "  </tbody>\n",
       "</table>\n",
       "</div>"
      ],
      "text/plain": [
       "        input      output\n",
       "0 -122.740667 -130.572085\n",
       "1 -121.531419 -129.938929\n",
       "2 -134.917019 -130.141832\n",
       "3 -120.605951 -125.760932\n",
       "4 -129.894781 -112.785214"
      ]
     },
     "execution_count": 19,
     "metadata": {},
     "output_type": "execute_result"
    }
   ],
   "source": [
    "df= pd.read_csv('dataframe_.csv')\n",
    "df.head(5)"
   ]
  },
  {
   "cell_type": "code",
   "execution_count": 20,
   "metadata": {},
   "outputs": [
    {
     "data": {
      "text/plain": [
       "(1697, 2)"
      ]
     },
     "execution_count": 20,
     "metadata": {},
     "output_type": "execute_result"
    }
   ],
   "source": [
    "df.shape"
   ]
  },
  {
   "cell_type": "code",
   "execution_count": 21,
   "metadata": {},
   "outputs": [
    {
     "data": {
      "text/plain": [
       "Index(['input', 'output'], dtype='object')"
      ]
     },
     "execution_count": 21,
     "metadata": {},
     "output_type": "execute_result"
    }
   ],
   "source": [
    "df.columns"
   ]
  },
  {
   "cell_type": "code",
   "execution_count": 22,
   "metadata": {},
   "outputs": [
    {
     "data": {
      "text/plain": [
       "input     float64\n",
       "output    float64\n",
       "dtype: object"
      ]
     },
     "execution_count": 22,
     "metadata": {},
     "output_type": "execute_result"
    }
   ],
   "source": [
    "df.dtypes"
   ]
  },
  {
   "cell_type": "code",
   "execution_count": 27,
   "metadata": {},
   "outputs": [
    {
     "data": {
      "text/plain": [
       "-95.000000     32\n",
       "-33.000000     12\n",
       "-78.000000     12\n",
       "-32.000000     10\n",
       "-75.000000     10\n",
       "               ..\n",
       "-76.128576      1\n",
       "-49.585653      1\n",
       " 128.812515     1\n",
       "-36.972386      1\n",
       " 92.537079      1\n",
       "Name: output, Length: 969, dtype: int64"
      ]
     },
     "execution_count": 27,
     "metadata": {},
     "output_type": "execute_result"
    }
   ],
   "source": [
    "df['output'].value_counts()"
   ]
  },
  {
   "cell_type": "markdown",
   "metadata": {},
   "source": [
    "# STEP 2"
   ]
  },
  {
   "cell_type": "code",
   "execution_count": 33,
   "metadata": {},
   "outputs": [
    {
     "data": {
      "text/plain": [
       "input     1\n",
       "output    1\n",
       "dtype: int64"
      ]
     },
     "execution_count": 33,
     "metadata": {},
     "output_type": "execute_result"
    }
   ],
   "source": [
    "df.isnull().sum()"
   ]
  },
  {
   "cell_type": "code",
   "execution_count": 41,
   "metadata": {},
   "outputs": [],
   "source": [
    "df.fillna(method='ffill',inplace= True)"
   ]
  },
  {
   "cell_type": "code",
   "execution_count": 43,
   "metadata": {},
   "outputs": [
    {
     "data": {
      "text/plain": [
       "input     0\n",
       "output    0\n",
       "dtype: int64"
      ]
     },
     "execution_count": 43,
     "metadata": {},
     "output_type": "execute_result"
    }
   ],
   "source": [
    "df.isnull().sum()"
   ]
  },
  {
   "cell_type": "code",
   "execution_count": 42,
   "metadata": {},
   "outputs": [
    {
     "name": "stdout",
     "output_type": "stream",
     "text": [
      "<class 'pandas.core.frame.DataFrame'>\n",
      "RangeIndex: 1697 entries, 0 to 1696\n",
      "Data columns (total 2 columns):\n",
      " #   Column  Non-Null Count  Dtype  \n",
      "---  ------  --------------  -----  \n",
      " 0   input   1697 non-null   float64\n",
      " 1   output  1697 non-null   float64\n",
      "dtypes: float64(2)\n",
      "memory usage: 26.6 KB\n"
     ]
    }
   ],
   "source": [
    "df.info()"
   ]
  },
  {
   "cell_type": "code",
   "execution_count": 44,
   "metadata": {},
   "outputs": [
    {
     "data": {
      "text/html": [
       "<div>\n",
       "<style scoped>\n",
       "    .dataframe tbody tr th:only-of-type {\n",
       "        vertical-align: middle;\n",
       "    }\n",
       "\n",
       "    .dataframe tbody tr th {\n",
       "        vertical-align: top;\n",
       "    }\n",
       "\n",
       "    .dataframe thead th {\n",
       "        text-align: right;\n",
       "    }\n",
       "</style>\n",
       "<table border=\"1\" class=\"dataframe\">\n",
       "  <thead>\n",
       "    <tr style=\"text-align: right;\">\n",
       "      <th></th>\n",
       "      <th>input</th>\n",
       "      <th>output</th>\n",
       "    </tr>\n",
       "  </thead>\n",
       "  <tbody>\n",
       "    <tr>\n",
       "      <th>count</th>\n",
       "      <td>1697.000000</td>\n",
       "      <td>1697.000000</td>\n",
       "    </tr>\n",
       "    <tr>\n",
       "      <th>mean</th>\n",
       "      <td>1.225637</td>\n",
       "      <td>-34.042227</td>\n",
       "    </tr>\n",
       "    <tr>\n",
       "      <th>std</th>\n",
       "      <td>79.029039</td>\n",
       "      <td>65.778771</td>\n",
       "    </tr>\n",
       "    <tr>\n",
       "      <th>min</th>\n",
       "      <td>-134.962839</td>\n",
       "      <td>-132.422167</td>\n",
       "    </tr>\n",
       "    <tr>\n",
       "      <th>25%</th>\n",
       "      <td>-63.386506</td>\n",
       "      <td>-80.026767</td>\n",
       "    </tr>\n",
       "    <tr>\n",
       "      <th>50%</th>\n",
       "      <td>10.382214</td>\n",
       "      <td>-50.376850</td>\n",
       "    </tr>\n",
       "    <tr>\n",
       "      <th>75%</th>\n",
       "      <td>70.264109</td>\n",
       "      <td>-11.000000</td>\n",
       "    </tr>\n",
       "    <tr>\n",
       "      <th>max</th>\n",
       "      <td>134.605775</td>\n",
       "      <td>134.425495</td>\n",
       "    </tr>\n",
       "  </tbody>\n",
       "</table>\n",
       "</div>"
      ],
      "text/plain": [
       "             input       output\n",
       "count  1697.000000  1697.000000\n",
       "mean      1.225637   -34.042227\n",
       "std      79.029039    65.778771\n",
       "min    -134.962839  -132.422167\n",
       "25%     -63.386506   -80.026767\n",
       "50%      10.382214   -50.376850\n",
       "75%      70.264109   -11.000000\n",
       "max     134.605775   134.425495"
      ]
     },
     "execution_count": 44,
     "metadata": {},
     "output_type": "execute_result"
    }
   ],
   "source": [
    "df.describe()"
   ]
  },
  {
   "cell_type": "code",
   "execution_count": 81,
   "metadata": {},
   "outputs": [
    {
     "data": {
      "text/plain": [
       "<matplotlib.axes._subplots.AxesSubplot at 0x68c1d50>"
      ]
     },
     "execution_count": 81,
     "metadata": {},
     "output_type": "execute_result"
    },
    {
     "data": {
      "image/png": "[encoded data removed]",
      "text/plain": [
       "<Figure size 432x288 with 2 Axes>"
      ]
     },
     "metadata": {
      "needs_background": "light"
     },
     "output_type": "display_data"
    }
   ],
   "source": [
    "corr_matrix=df.corr()\n",
    "sns.heatmap(corr_matrix,annot=True)"
   ]
  },
  {
   "cell_type": "code",
   "execution_count": 45,
   "metadata": {},
   "outputs": [
    {
     "data": {
      "image/png": "[encoded data removed]",
      "text/plain": [
       "<Figure size 1152x288 with 2 Axes>"
      ]
     },
     "metadata": {
      "needs_background": "light"
     },
     "output_type": "display_data"
    }
   ],
   "source": [
    "plt.figure(figsize=(16,4))\n",
    "plt.subplot(1,2,1)\n",
    "sns.distplot(df['input'])\n",
    "plt.subplot(1,2,2)\n",
    "sns.distplot(df['output'])\n",
    "plt.show()"
   ]
  },
  {
   "cell_type": "markdown",
   "metadata": {},
   "source": [
    "# STEP 3"
   ]
  },
  {
   "cell_type": "code",
   "execution_count": 46,
   "metadata": {},
   "outputs": [],
   "source": [
    "X=df.drop(['output'],axis=1)\n",
    "y=df['output']"
   ]
  },
  {
   "cell_type": "code",
   "execution_count": 47,
   "metadata": {},
   "outputs": [
    {
     "name": "stdout",
     "output_type": "stream",
     "text": [
      "X Shape: (1697, 1)\n",
      "y Shape: (1697,)\n"
     ]
    }
   ],
   "source": [
    "print('X Shape:',X.shape)\n",
    "print('y Shape:',y.shape)"
   ]
  },
  {
   "cell_type": "code",
   "execution_count": 48,
   "metadata": {},
   "outputs": [],
   "source": [
    "#ML Model\n",
    "\n",
    "import warnings\n",
    "warnings.filterwarnings('ignore')"
   ]
  },
  {
   "cell_type": "code",
   "execution_count": 50,
   "metadata": {},
   "outputs": [],
   "source": [
    "from sklearn.model_selection import train_test_split\n",
    "X_train,X_test,y_train,y_test = train_test_split(X,y,test_size=0.2,random_state=42)"
   ]
  },
  {
   "cell_type": "code",
   "execution_count": 60,
   "metadata": {},
   "outputs": [
    {
     "data": {
      "text/plain": [
       "LinearRegression()"
      ]
     },
     "execution_count": 60,
     "metadata": {},
     "output_type": "execute_result"
    }
   ],
   "source": [
    "from sklearn.linear_model import LinearRegression\n",
    "slr = LinearRegression()\n",
    "slr.fit(X_train, y_train)\n"
   ]
  },
  {
   "cell_type": "code",
   "execution_count": 90,
   "metadata": {},
   "outputs": [
    {
     "data": {
      "text/plain": [
       "array([-21.40469273, -57.18735948, -49.70346244,  17.46580377,\n",
       "         1.49625744,  14.14444374, -38.00145132, -29.54976278,\n",
       "        21.28607846, -65.05243934, -27.27297439,  20.60839849,\n",
       "         7.36256894, -21.49761338, -75.94522988, -36.9376383 ,\n",
       "       -93.61200098, -69.35400336,   5.48085697,  13.67938715,\n",
       "       -46.90732688, -88.84416414, -45.26981311, -74.22654355,\n",
       "        -0.25252422, -21.40541008, -91.05895514, -47.66013405,\n",
       "         4.62001598,  -4.89731221, -84.83381679,  -6.45871729,\n",
       "       -45.43426058, -84.81841358,  -7.78281361,  -7.06545708,\n",
       "        -6.00613913, -47.84442702,  10.04560109, -10.52847671,\n",
       "       -18.41502293, -89.73008054,  -8.54348092, -89.28712234,\n",
       "       -35.24647305, -20.94207547,  -8.43259063, -89.28941704,\n",
       "       -30.37654865, -76.4158507 , -77.77020915, -23.59027855,\n",
       "       -92.57531636,  16.13692917,  15.26277176, -27.97788631,\n",
       "       -10.20201113, -32.83315037, -13.82216496, -88.26546224,\n",
       "       -10.55347514, -11.77424622, -11.76943741,   3.25855382,\n",
       "       -23.81979411, -82.20180886, -31.70255639,   2.84818318,\n",
       "       -38.78988758,  12.11371463, -14.56441633,   4.52177376,\n",
       "        20.48655818, -74.24232912, -19.01223324,  11.34639701,\n",
       "       -12.78087163,  20.56991446,   2.05458469, -33.46607556,\n",
       "        -9.30064698, -83.8287165 , -26.98172402, -46.81785604,\n",
       "       -61.38075576, -87.95824774, -26.33687103, -90.73602585,\n",
       "        -2.04165415, -61.90886174, -42.42472251, -18.4138104 ,\n",
       "       -47.9115017 , -24.25651536, -90.17303874,   2.78844301,\n",
       "       -90.41189487,   2.24611094, -42.12342864, -13.93948959,\n",
       "       -25.5011416 ,  -8.54361242, -31.93643005, -15.62494177,\n",
       "       -35.06025332,  18.15987958, -85.54265502, -34.66451839,\n",
       "       -89.07145645,   1.6643693 , -25.5011416 ,  -1.67900503,\n",
       "       -90.048546  ,   1.96226678, -30.81663999, -62.53147134,\n",
       "       -20.95016482, -41.20685639, -26.387058  , -80.39536898,\n",
       "       -16.42763216, -86.11149401,   7.1243446 , -89.73008054,\n",
       "        16.17118047, -90.17303874, -84.80917471,  15.25101277,\n",
       "        12.02172311,  -3.6207067 , -81.68264666, -89.79077206,\n",
       "       -23.3156556 , -86.62595523, -28.15889079, -44.27089445,\n",
       "       -15.24467529,   2.07864003, -79.66698752, -48.57380318,\n",
       "        -3.43277418, -16.98955668, -27.62720734, -22.4004342 ,\n",
       "       -18.77544554, -48.53496798,  14.36509637,  -1.30858089,\n",
       "       -87.82666949, -11.32647921, -23.81979411, -77.47417249,\n",
       "        18.98370825, -33.47438919,  -0.69548242, -52.60376324,\n",
       "       -38.80109352, -10.44056281,   2.50440586, -17.02739384,\n",
       "       -77.64389992,  24.26147914, -11.98792733,   8.60663977,\n",
       "        -7.0375646 , -92.03300037, -89.12613281,   5.50593238,\n",
       "        23.78958519,  18.79467836, -37.98234608,  14.08818911,\n",
       "         6.97448624,   3.05823679, -18.38781342, -39.0850543 ,\n",
       "       -11.76943741, -18.03352985, -76.79073139, -58.04043539,\n",
       "       -11.90657268, -33.47438919, -28.29494592, -20.95016482,\n",
       "       -26.387058  , -84.41458214,  11.24073146, -87.95824774,\n",
       "       -78.47054799, -19.57211539, -73.18888513, -69.34582213,\n",
       "        -0.69548242,   7.29323314, -43.08600802,  -3.42661423,\n",
       "       -44.07105559, -24.74946797,  17.52049626, -50.06547938,\n",
       "       -53.44011762, -10.08125025, -90.17303874, -66.84743677,\n",
       "       -56.39427216, -35.30307324, -12.22357112,  18.08218652,\n",
       "        -4.97507311,  -3.79618982, -85.89271709, -20.14553226,\n",
       "       -14.19942965, -33.03143099,  13.2583828 , -41.03476549,\n",
       "       -85.74345674,  -9.94574697,   5.58962563, -79.18385585,\n",
       "        15.04390593, -22.81706253, -57.50144904,  24.98388696,\n",
       "       -15.87725562,  -2.91027342, -34.59367139, -83.48393086,\n",
       "       -71.82311975, -21.0715596 ,  -0.33410668, -29.82864637,\n",
       "       -32.58847279, -66.80426451, -29.48776539, -27.66849483,\n",
       "       -83.52866574, -16.50790224, -44.33968741, -76.14327838,\n",
       "       -22.18068   , -39.86244944, -18.37580062, -56.03914625,\n",
       "       -26.76303089, -87.77555783, -55.625074  , -19.93191316,\n",
       "       -21.75454514, -15.24467529,  -6.45871729, -70.68287796,\n",
       "       -36.73101998, -83.08570754, -52.01023761,  13.88193679,\n",
       "       -18.4138104 , -86.62937314, -88.47418361,  15.95873931,\n",
       "       -64.92847709, -26.387058  , -19.86756651, -37.99543556,\n",
       "        -2.09875587, -17.66045354,  12.26249596, -24.64366616,\n",
       "       -45.87721878, -84.83381679,  21.42511024, -80.42795835,\n",
       "       -30.25911535, -81.54709747, -83.48393086, -88.97306839,\n",
       "       -84.41458214, -89.73008054, -85.74345674, -36.53706083,\n",
       "        14.93581864, -41.20685639,  -9.11168821,  10.21785739,\n",
       "        22.07400405, -46.21568071, -37.99543556, -84.03267913,\n",
       "       -23.7293088 , -38.78988758, -93.91670266, -21.80546322,\n",
       "        20.83211067, -30.5096923 , -16.95845266,  -1.06359099,\n",
       "       -87.58503047, -20.24886392, -26.54590972, -61.93221077,\n",
       "       -46.81785604, -33.8717189 , -14.79056833,   8.08692719,\n",
       "       -67.81257728, -88.06423984, -89.00982993, -90.17303874,\n",
       "         6.93712925, -56.95513329,  -1.21878833, -77.4721095 ,\n",
       "        19.40689913,   1.07635038, -87.9176834 , -60.77015009,\n",
       "       -10.44056281, -73.18888513, -72.65047174, -47.77286071,\n",
       "       -68.5516167 , -36.13213839, -30.37654865, -35.24622199,\n",
       "       -35.24622199, -85.07300354,  18.79467836, -29.48794831,\n",
       "       -85.36339214, -14.19942965, -55.625074  ,  -9.99760461,\n",
       "        -7.95871065, -25.08673183,  -3.0114338 , -17.47135599,\n",
       "         6.97448624, -32.09417325,  -0.78090436,  15.23139805])"
      ]
     },
     "execution_count": 90,
     "metadata": {},
     "output_type": "execute_result"
    }
   ],
   "source": [
    "preds1=slr.predict(X_test)\n",
    "preds1"
   ]
  },
  {
   "cell_type": "code",
   "execution_count": 75,
   "metadata": {},
   "outputs": [
    {
     "name": "stdout",
     "output_type": "stream",
     "text": [
      "Slope: 0.443\n",
      "Intercept: -34.641\n"
     ]
    }
   ],
   "source": [
    "print('Slope: %.3f' % slr.coef_[0])\n",
    "print('Intercept: %.3f' % slr.intercept_)"
   ]
  },
  {
   "cell_type": "code",
   "execution_count": 86,
   "metadata": {},
   "outputs": [],
   "source": [
    "def lin_regplot(X, y, model):\n",
    "    plt.scatter(X, y, c='blue', edgecolor='black', alpha=0.4)\n",
    "    plt.plot(X, model.predict(X), color='red')\n",
    "    return None"
   ]
  },
  {
   "cell_type": "code",
   "execution_count": 92,
   "metadata": {},
   "outputs": [
    {
     "data": {
      "image/png": "[encoded data removed]",
      "text/plain": [
       "<Figure size 432x288 with 1 Axes>"
      ]
     },
     "metadata": {
      "needs_background": "light"
     },
     "output_type": "display_data"
    }
   ],
   "source": [
    "lin_regplot(X_train, y_train, slr)\n",
    "plt.xlabel('input')\n",
    "plt.ylabel('ouput')\n",
    "\n",
    "plt.show()"
   ]
  },
  {
   "cell_type": "code",
   "execution_count": 61,
   "metadata": {},
   "outputs": [
    {
     "data": {
      "text/plain": [
       "RANSACRegressor(base_estimator=LinearRegression(), max_trials=20,\n",
       "                min_samples=50, random_state=0, residual_threshold=5.0)"
      ]
     },
     "execution_count": 61,
     "metadata": {},
     "output_type": "execute_result"
    }
   ],
   "source": [
    "from sklearn.linear_model import RANSACRegressor\n",
    "ransac = RANSACRegressor(LinearRegression(),max_trials=20,min_samples=50,residual_threshold=5.0,random_state=0)\n",
    "ransac.fit(X_train,y_train)"
   ]
  },
  {
   "cell_type": "code",
   "execution_count": 73,
   "metadata": {},
   "outputs": [],
   "source": [
    "inlier_mask = ransac.inlier_mask_\n",
    "outlier_mask = np.logical_not(inlier_mask)\n",
    "line_X = np.arange(3, 10, 1)\n",
    "line_y_ransac = ransac.predict(line_X[:, np.newaxis])"
   ]
  },
  {
   "cell_type": "code",
   "execution_count": 80,
   "metadata": {},
   "outputs": [
    {
     "data": {
      "text/plain": [
       "array([-35.77241847, -49.14280416, -46.34640582, -21.2482486 ,\n",
       "       -27.21535539, -22.48929262, -41.97388649, -38.81586765,\n",
       "       -19.82078243, -52.08163351, -37.96513344, -20.07400119,\n",
       "       -25.02337657, -35.80713877, -56.15178322, -41.57638704,\n",
       "       -62.75306717, -53.68893602, -25.72648836, -22.66306351,\n",
       "       -45.30161474, -60.97153931, -44.68974893, -55.50958684,\n",
       "       -27.86879705, -35.77268651, -61.79910787, -45.58290519,\n",
       "       -26.04814623, -29.60434704, -59.47305148, -30.18777444,\n",
       "       -44.7511956 , -59.46729599, -30.68253014, -30.41448602,\n",
       "       -30.01866617, -45.65176725, -24.0208472 , -31.70846191,\n",
       "       -34.65531228, -61.30256674, -30.96675757, -61.13705303,\n",
       "       -40.94447405, -35.59955904, -30.92532282, -61.13791045,\n",
       "       -39.12480064, -56.32763322, -56.83369653, -36.58907435,\n",
       "       -62.36570439, -21.74478973, -22.07142334, -38.22852757,\n",
       "       -31.58647629, -40.04272307, -32.93916622, -60.75530424,\n",
       "       -31.71780271, -32.17395038, -32.17215354, -26.55686388,\n",
       "       -36.67483408, -58.48958758, -39.62027055, -26.71020107,\n",
       "       -42.26848994, -23.24808546, -33.21651244, -26.08485496,\n",
       "       -20.11952748, -55.5154852 , -34.87846312, -23.53479781,\n",
       "       -32.55008137, -20.08838096, -27.00673341, -40.27921897,\n",
       "       -31.24967674, -59.09749036, -37.85630617, -45.26818348,\n",
       "       -50.70968921, -60.64051189, -37.61535339, -61.67844361,\n",
       "       -28.53731506, -50.90701885, -43.62666553, -34.65485921,\n",
       "       -45.67683006, -36.83801731, -61.46808045, -26.7325233 ,\n",
       "       -61.55733032, -26.9351686 , -43.51408546, -32.9830052 ,\n",
       "       -37.3030786 , -30.9668067 , -39.7076587 , -33.61278346,\n",
       "       -40.87489205, -20.98890344, -59.73791269, -40.72702357,\n",
       "       -61.05646831, -27.15253949, -37.3030786 , -28.40180927,\n",
       "       -61.42156307, -27.04122849, -39.28924313, -51.13966027,\n",
       "       -35.60258167, -43.17160332, -37.63410602, -57.81460161,\n",
       "       -33.91271304, -59.95046244, -25.11239038, -61.30256674,\n",
       "       -21.73199155, -61.46808045, -59.46384383, -22.07581715,\n",
       "       -23.28245859, -29.12733653, -58.29559983, -61.32524445,\n",
       "       -36.48646001, -60.14269364, -38.29616086, -44.3164976 ,\n",
       "       -33.47069485, -26.997745  , -57.54243796, -45.92430257,\n",
       "       -29.05711454, -34.12267916, -38.09749449, -36.14448262,\n",
       "       -34.78998613, -45.90979158, -22.40684458, -28.2633983 ,\n",
       "       -60.59134697, -32.00663983, -36.67483408, -56.72308084,\n",
       "       -20.68107543, -40.2823254 , -28.03431076, -47.4301188 ,\n",
       "       -42.27267709, -31.67561241, -26.83865531, -34.13681722,\n",
       "       -56.78650041, -18.70900798, -32.25379348, -24.55852282,\n",
       "       -30.40406385, -62.16306511, -61.07689842, -25.7171188 ,\n",
       "       -18.88533369, -20.75170746, -41.96674771, -22.51031246,\n",
       "       -25.16838576, -26.63171341, -34.6451453 , -42.37878057,\n",
       "       -32.17215354, -34.51276534, -56.46770941, -49.46156056,\n",
       "       -32.22339487, -40.2823254 , -38.34699859, -35.60258167,\n",
       "       -37.63410602, -59.3164022 , -23.57428031, -60.64051189,\n",
       "       -57.0953819 , -35.0876661 , -55.1218602 , -53.68587906,\n",
       "       -28.03431076, -25.04928427, -43.87375842, -29.05481284,\n",
       "       -44.24182674, -37.02221171, -21.22781245, -46.48167539,\n",
       "       -47.74262711, -31.54135334, -61.46808045, -52.75234394,\n",
       "       -48.84646282, -40.96562302, -32.34184305, -21.01793387,\n",
       "       -29.63340282, -29.19290674, -59.86871527, -35.30192639,\n",
       "       -33.0801332 , -40.11681169, -22.82037405, -43.10730062,\n",
       "       -59.81294334, -31.49072182, -25.68584637, -57.36191322,\n",
       "       -22.15320374, -36.30015803, -49.26016541, -18.43907642,\n",
       "       -33.70706189, -28.86187932, -40.70055121, -58.96865935,\n",
       "       -54.61153462, -35.64794148, -27.89928078, -38.92007401,\n",
       "       -39.95129798, -52.73621239, -38.792702  , -38.11292178,\n",
       "       -58.98537478, -33.94270639, -44.34220246, -56.22578511,\n",
       "       -36.06237028, -42.66925844, -34.64065666, -48.71376812,\n",
       "       -37.77459031, -60.57224882, -48.5590478 , -35.22210647,\n",
       "       -35.9031427 , -33.47069485, -30.18777444, -54.18547715,\n",
       "       -41.49918299, -58.81986107, -47.20834476, -22.58737975,\n",
       "       -34.65485921, -60.14397076, -60.8332941 , -21.81137133,\n",
       "       -52.03531435, -37.63410602, -35.198063  , -41.97163867,\n",
       "       -28.55865143, -34.37336338, -23.19249252, -36.98267829,\n",
       "       -44.91670932, -59.47305148, -19.76883246, -57.8267788 ,\n",
       "       -39.08092105, -58.24495114, -58.96865935, -61.01970508,\n",
       "       -59.3164022 , -61.30256674, -59.81294334, -41.42670911,\n",
       "       -22.19359113, -43.17160332, -31.17907128, -23.9564827 ,\n",
       "       -19.5263698 , -45.04317743, -41.97163867, -59.17370209,\n",
       "       -36.64102375, -42.26848994, -62.86692059, -35.92216851,\n",
       "       -19.99040993, -39.17455048, -34.11105697, -28.17185651,\n",
       "       -60.50105725, -35.34053682, -37.69346182, -50.91574334,\n",
       "       -45.26818348, -40.43078978, -33.30101534, -24.75271622,\n",
       "       -53.11297388, -60.68011641, -61.03344123, -61.46808045,\n",
       "       -25.1823444 , -49.05603159, -28.22984683, -56.72230999,\n",
       "       -20.52294788, -27.37225592, -60.62535481, -50.48153312,\n",
       "       -31.67561241, -55.1218602 , -54.92067914, -45.62502611,\n",
       "       -53.38911993, -41.27540767, -39.12480064, -40.94438024,\n",
       "       -40.94438024, -59.56242489, -20.75170746, -38.79277034,\n",
       "       -59.67093015, -33.0801332 , -48.5590478 , -31.5100987 ,\n",
       "       -30.74825502, -37.14823216, -28.89967844, -34.30270606,\n",
       "       -25.16838576, -39.7666003 , -28.06622913, -22.0831463 ])"
      ]
     },
     "execution_count": 80,
     "metadata": {},
     "output_type": "execute_result"
    }
   ],
   "source": [
    "preds = ransac.predict(X_test)\n",
    "preds"
   ]
  },
  {
   "cell_type": "markdown",
   "metadata": {},
   "source": [
    "# STEP 4"
   ]
  },
  {
   "cell_type": "code",
   "execution_count": 82,
   "metadata": {},
   "outputs": [],
   "source": [
    "from sklearn.ensemble import IsolationForest\n",
    "from sklearn.pipeline import Pipeline\n",
    "from sklearn.compose import ColumnTransformer\n",
    "from sklearn.preprocessing import StandardScaler\n",
    "from sklearn.model_selection import GridSearchCV\n"
   ]
  },
  {
   "cell_type": "code",
   "execution_count": 83,
   "metadata": {},
   "outputs": [],
   "source": [
    "outlier_detector = IsolationForest(contamination=0.05, random_state=42)\n",
    "outliers = outlier_detector.fit_predict(df)\n",
    "df = df[outliers == 1]"
   ]
  },
  {
   "cell_type": "code",
   "execution_count": 85,
   "metadata": {},
   "outputs": [],
   "source": [
    "def feature_engineer(df):\n",
    "    df[\"new_feature\"] = df[\"input\"] + df[\"output\"]\n",
    "    return df\n",
    "\n",
    "df = feature_engineer(df)"
   ]
  },
  {
   "cell_type": "markdown",
   "metadata": {},
   "source": [
    "# STEP 5"
   ]
  },
  {
   "cell_type": "code",
   "execution_count": 93,
   "metadata": {},
   "outputs": [],
   "source": [
    "from sklearn.metrics import mean_squared_error, r2_score"
   ]
  },
  {
   "cell_type": "code",
   "execution_count": 94,
   "metadata": {},
   "outputs": [],
   "source": [
    "mse = mean_squared_error(X_test, preds)\n",
    "r2 = r2_score(X_test, preds)"
   ]
  },
  {
   "cell_type": "code",
   "execution_count": 95,
   "metadata": {},
   "outputs": [],
   "source": [
    "model_scores = {\"Final Model\": (mse, r2)}"
   ]
  },
  {
   "cell_type": "code",
   "execution_count": 96,
   "metadata": {},
   "outputs": [
    {
     "data": {
      "text/plain": [
       "{'Final Model': (6120.8632695271945, -0.01055955957322463)}"
      ]
     },
     "execution_count": 96,
     "metadata": {},
     "output_type": "execute_result"
    }
   ],
   "source": [
    "model_scores"
   ]
  },
  {
   "cell_type": "markdown",
   "metadata": {},
   "source": [
    "# STEP 6"
   ]
  },
  {
   "cell_type": "code",
   "execution_count": 102,
   "metadata": {},
   "outputs": [
    {
     "data": {
      "text/plain": [
       "LinearRegression()"
      ]
     },
     "execution_count": 102,
     "metadata": {},
     "output_type": "execute_result"
    }
   ],
   "source": [
    "from sklearn.linear_model import LinearRegression\n",
    "\n",
    "# Feature engineering\n",
    "df = feature_engineer(df)\n",
    "\n",
    "# Separate the predictors (X) and targets (y)\n",
    "X = df.drop(\"output\", axis=1)\n",
    "y = df[\"output\"]\n",
    "\n",
    "# Train the linear regression model\n",
    "lin_reg = LinearRegression()\n",
    "lin_reg.fit(X, y)"
   ]
  },
  {
   "cell_type": "code",
   "execution_count": 105,
   "metadata": {},
   "outputs": [
    {
     "data": {
      "image/png": "[encoded data removed]",
      "text/plain": [
       "<Figure size 432x288 with 1 Axes>"
      ]
     },
     "metadata": {
      "needs_background": "light"
     },
     "output_type": "display_data"
    }
   ],
   "source": [
    "plt.scatter(X_test[\"input\"],preds1)\n",
    "plt.xlabel(\"Actual values\")\n",
    "plt.ylabel(\"Predicted values\")\n",
    "plt.show()"
   ]
  },
  {
   "cell_type": "code",
   "execution_count": null,
   "metadata": {},
   "outputs": [],
   "source": []
  }
 ],
 "metadata": {
  "kernelspec": {
   "display_name": "Python 3",
   "language": "python",
   "name": "python3"
  },
  "language_info": {
   "codemirror_mode": {
    "name": "ipython",
    "version": 3
   },
   "file_extension": ".py",
   "mimetype": "text/x-python",
   "name": "python",
   "nbconvert_exporter": "python",
   "pygments_lexer": "ipython3",
   "version": "3.7.6"
  }
 },
 "nbformat": 4,
 "nbformat_minor": 5
}
